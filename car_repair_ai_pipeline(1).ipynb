{
  "nbformat": 4,
  "nbformat_minor": 0,
  "metadata": {
    "colab": {
      "provenance": []
    },
    "kernelspec": {
      "name": "python3",
      "display_name": "Python 3"
    },
    "language_info": {
      "name": "python"
    }
  },
  "cells": [
    {
      "cell_type": "code",
      "execution_count": 1,
      "metadata": {
        "colab": {
          "base_uri": "https://localhost:8080/"
        },
        "id": "qPHa_mLrQKUG",
        "outputId": "5d016840-ca0c-4ddc-9241-771cd93ae9f9"
      },
      "outputs": [
        {
          "output_type": "stream",
          "name": "stdout",
          "text": [
            "\u001b[?25l   \u001b[90m━━━━━━━━━━━━━━━━━━━━━━━━━━━━━━━━━━━━━━━━\u001b[0m \u001b[32m0.0/310.5 kB\u001b[0m \u001b[31m?\u001b[0m eta \u001b[36m-:--:--\u001b[0m\r\u001b[2K   \u001b[91m━━━━━━━━━━━━━━━━━━━━━━━━━\u001b[0m\u001b[90m╺\u001b[0m\u001b[90m━━━━━━━━━━━━━━\u001b[0m \u001b[32m194.6/310.5 kB\u001b[0m \u001b[31m6.3 MB/s\u001b[0m eta \u001b[36m0:00:01\u001b[0m\r\u001b[2K   \u001b[90m━━━━━━━━━━━━━━━━━━━━━━━━━━━━━━━━━━━━━━━━\u001b[0m \u001b[32m310.5/310.5 kB\u001b[0m \u001b[31m5.4 MB/s\u001b[0m eta \u001b[36m0:00:00\u001b[0m\n",
            "\u001b[?25h"
          ]
        }
      ],
      "source": [
        "!pip -q install pypdf scikit-learn"
      ]
    },
    {
      "cell_type": "code",
      "source": [
        "import re, json, pickle, os\n",
        "from pathlib import Path\n",
        "from typing import List, Dict, Tuple\n",
        "from pypdf import PdfReader"
      ],
      "metadata": {
        "id": "njQ0Yk2ZQNtW"
      },
      "execution_count": 2,
      "outputs": []
    },
    {
      "cell_type": "code",
      "source": [
        "from google.colab import files\n",
        "\n",
        "print(\"👉 Click 'Choose Files' and select your PDF (e.g., Crawfords_Auto_Repair_Guide.pdf)\")\n",
        "uploaded = files.upload()\n",
        "assert len(uploaded) > 0, \"No file uploaded.\"\n",
        "pdf_path = list(uploaded.keys())[0]\n",
        "print(\"Uploaded:\", pdf_path)"
      ],
      "metadata": {
        "colab": {
          "base_uri": "https://localhost:8080/",
          "height": 110
        },
        "id": "Zuxc41yFQVCa",
        "outputId": "f3bb9e88-bf8f-4eea-d0b8-27b13d089483"
      },
      "execution_count": 3,
      "outputs": [
        {
          "output_type": "stream",
          "name": "stdout",
          "text": [
            "👉 Click 'Choose Files' and select your PDF (e.g., Crawfords_Auto_Repair_Guide.pdf)\n"
          ]
        },
        {
          "output_type": "display_data",
          "data": {
            "text/plain": [
              "<IPython.core.display.HTML object>"
            ],
            "text/html": [
              "\n",
              "     <input type=\"file\" id=\"files-36ab0141-c617-4103-82eb-60949d9d2a25\" name=\"files[]\" multiple disabled\n",
              "        style=\"border:none\" />\n",
              "     <output id=\"result-36ab0141-c617-4103-82eb-60949d9d2a25\">\n",
              "      Upload widget is only available when the cell has been executed in the\n",
              "      current browser session. Please rerun this cell to enable.\n",
              "      </output>\n",
              "      <script>// Copyright 2017 Google LLC\n",
              "//\n",
              "// Licensed under the Apache License, Version 2.0 (the \"License\");\n",
              "// you may not use this file except in compliance with the License.\n",
              "// You may obtain a copy of the License at\n",
              "//\n",
              "//      http://www.apache.org/licenses/LICENSE-2.0\n",
              "//\n",
              "// Unless required by applicable law or agreed to in writing, software\n",
              "// distributed under the License is distributed on an \"AS IS\" BASIS,\n",
              "// WITHOUT WARRANTIES OR CONDITIONS OF ANY KIND, either express or implied.\n",
              "// See the License for the specific language governing permissions and\n",
              "// limitations under the License.\n",
              "\n",
              "/**\n",
              " * @fileoverview Helpers for google.colab Python module.\n",
              " */\n",
              "(function(scope) {\n",
              "function span(text, styleAttributes = {}) {\n",
              "  const element = document.createElement('span');\n",
              "  element.textContent = text;\n",
              "  for (const key of Object.keys(styleAttributes)) {\n",
              "    element.style[key] = styleAttributes[key];\n",
              "  }\n",
              "  return element;\n",
              "}\n",
              "\n",
              "// Max number of bytes which will be uploaded at a time.\n",
              "const MAX_PAYLOAD_SIZE = 100 * 1024;\n",
              "\n",
              "function _uploadFiles(inputId, outputId) {\n",
              "  const steps = uploadFilesStep(inputId, outputId);\n",
              "  const outputElement = document.getElementById(outputId);\n",
              "  // Cache steps on the outputElement to make it available for the next call\n",
              "  // to uploadFilesContinue from Python.\n",
              "  outputElement.steps = steps;\n",
              "\n",
              "  return _uploadFilesContinue(outputId);\n",
              "}\n",
              "\n",
              "// This is roughly an async generator (not supported in the browser yet),\n",
              "// where there are multiple asynchronous steps and the Python side is going\n",
              "// to poll for completion of each step.\n",
              "// This uses a Promise to block the python side on completion of each step,\n",
              "// then passes the result of the previous step as the input to the next step.\n",
              "function _uploadFilesContinue(outputId) {\n",
              "  const outputElement = document.getElementById(outputId);\n",
              "  const steps = outputElement.steps;\n",
              "\n",
              "  const next = steps.next(outputElement.lastPromiseValue);\n",
              "  return Promise.resolve(next.value.promise).then((value) => {\n",
              "    // Cache the last promise value to make it available to the next\n",
              "    // step of the generator.\n",
              "    outputElement.lastPromiseValue = value;\n",
              "    return next.value.response;\n",
              "  });\n",
              "}\n",
              "\n",
              "/**\n",
              " * Generator function which is called between each async step of the upload\n",
              " * process.\n",
              " * @param {string} inputId Element ID of the input file picker element.\n",
              " * @param {string} outputId Element ID of the output display.\n",
              " * @return {!Iterable<!Object>} Iterable of next steps.\n",
              " */\n",
              "function* uploadFilesStep(inputId, outputId) {\n",
              "  const inputElement = document.getElementById(inputId);\n",
              "  inputElement.disabled = false;\n",
              "\n",
              "  const outputElement = document.getElementById(outputId);\n",
              "  outputElement.innerHTML = '';\n",
              "\n",
              "  const pickedPromise = new Promise((resolve) => {\n",
              "    inputElement.addEventListener('change', (e) => {\n",
              "      resolve(e.target.files);\n",
              "    });\n",
              "  });\n",
              "\n",
              "  const cancel = document.createElement('button');\n",
              "  inputElement.parentElement.appendChild(cancel);\n",
              "  cancel.textContent = 'Cancel upload';\n",
              "  const cancelPromise = new Promise((resolve) => {\n",
              "    cancel.onclick = () => {\n",
              "      resolve(null);\n",
              "    };\n",
              "  });\n",
              "\n",
              "  // Wait for the user to pick the files.\n",
              "  const files = yield {\n",
              "    promise: Promise.race([pickedPromise, cancelPromise]),\n",
              "    response: {\n",
              "      action: 'starting',\n",
              "    }\n",
              "  };\n",
              "\n",
              "  cancel.remove();\n",
              "\n",
              "  // Disable the input element since further picks are not allowed.\n",
              "  inputElement.disabled = true;\n",
              "\n",
              "  if (!files) {\n",
              "    return {\n",
              "      response: {\n",
              "        action: 'complete',\n",
              "      }\n",
              "    };\n",
              "  }\n",
              "\n",
              "  for (const file of files) {\n",
              "    const li = document.createElement('li');\n",
              "    li.append(span(file.name, {fontWeight: 'bold'}));\n",
              "    li.append(span(\n",
              "        `(${file.type || 'n/a'}) - ${file.size} bytes, ` +\n",
              "        `last modified: ${\n",
              "            file.lastModifiedDate ? file.lastModifiedDate.toLocaleDateString() :\n",
              "                                    'n/a'} - `));\n",
              "    const percent = span('0% done');\n",
              "    li.appendChild(percent);\n",
              "\n",
              "    outputElement.appendChild(li);\n",
              "\n",
              "    const fileDataPromise = new Promise((resolve) => {\n",
              "      const reader = new FileReader();\n",
              "      reader.onload = (e) => {\n",
              "        resolve(e.target.result);\n",
              "      };\n",
              "      reader.readAsArrayBuffer(file);\n",
              "    });\n",
              "    // Wait for the data to be ready.\n",
              "    let fileData = yield {\n",
              "      promise: fileDataPromise,\n",
              "      response: {\n",
              "        action: 'continue',\n",
              "      }\n",
              "    };\n",
              "\n",
              "    // Use a chunked sending to avoid message size limits. See b/62115660.\n",
              "    let position = 0;\n",
              "    do {\n",
              "      const length = Math.min(fileData.byteLength - position, MAX_PAYLOAD_SIZE);\n",
              "      const chunk = new Uint8Array(fileData, position, length);\n",
              "      position += length;\n",
              "\n",
              "      const base64 = btoa(String.fromCharCode.apply(null, chunk));\n",
              "      yield {\n",
              "        response: {\n",
              "          action: 'append',\n",
              "          file: file.name,\n",
              "          data: base64,\n",
              "        },\n",
              "      };\n",
              "\n",
              "      let percentDone = fileData.byteLength === 0 ?\n",
              "          100 :\n",
              "          Math.round((position / fileData.byteLength) * 100);\n",
              "      percent.textContent = `${percentDone}% done`;\n",
              "\n",
              "    } while (position < fileData.byteLength);\n",
              "  }\n",
              "\n",
              "  // All done.\n",
              "  yield {\n",
              "    response: {\n",
              "      action: 'complete',\n",
              "    }\n",
              "  };\n",
              "}\n",
              "\n",
              "scope.google = scope.google || {};\n",
              "scope.google.colab = scope.google.colab || {};\n",
              "scope.google.colab._files = {\n",
              "  _uploadFiles,\n",
              "  _uploadFilesContinue,\n",
              "};\n",
              "})(self);\n",
              "</script> "
            ]
          },
          "metadata": {}
        },
        {
          "output_type": "stream",
          "name": "stdout",
          "text": [
            "Saving Crawfords_Auto_Repair_Guide.pdf to Crawfords_Auto_Repair_Guide.pdf\n",
            "Uploaded: Crawfords_Auto_Repair_Guide.pdf\n"
          ]
        }
      ]
    },
    {
      "cell_type": "code",
      "source": [
        "def clean_text(t: str) -> str:\n",
        "    t = (t or \"\").replace(\"\\r\", \" \")\n",
        "    t = re.sub(r\"[ \\t]+\", \" \", t)\n",
        "    t = re.sub(r\"\\n{3,}\", \"\\n\\n\", t)\n",
        "    return t.strip()\n",
        "\n",
        "reader = PdfReader(pdf_path)\n",
        "pages = []\n",
        "extract_errors = []\n",
        "\n",
        "for i, page in enumerate(reader.pages):\n",
        "    try:\n",
        "        txt = clean_text(page.extract_text())\n",
        "    except Exception as e:\n",
        "        txt = \"\"\n",
        "        extract_errors.append((i, repr(e)))\n",
        "    pages.append({\"page\": i+1, \"text\": txt})\n",
        "\n",
        "print(f\"Pages extracted: {len(pages)}\")\n",
        "if extract_errors:\n",
        "    print(\"Some pages had extraction issues (showing a few):\", extract_errors[:5])\n"
      ],
      "metadata": {
        "colab": {
          "base_uri": "https://localhost:8080/"
        },
        "id": "wOyEIbgRQfqO",
        "outputId": "2f53ffff-c1bb-4c2e-c973-d4fe6c673b00"
      },
      "execution_count": 4,
      "outputs": [
        {
          "output_type": "stream",
          "name": "stdout",
          "text": [
            "Pages extracted: 84\n"
          ]
        }
      ]
    },
    {
      "cell_type": "markdown",
      "source": [],
      "metadata": {
        "id": "0X4O-u2UQmOT"
      }
    },
    {
      "cell_type": "code",
      "source": [
        "base_dir = Path(\"car_manual_raw\")\n",
        "base_dir.mkdir(exist_ok=True)\n",
        "\n",
        "# Save concatenated text with page markers\n",
        "with open(base_dir/\"manual.txt\", \"w\", encoding=\"utf-8\") as f:\n",
        "    for p in pages:\n",
        "        f.write(f\"[PAGE {p['page']}]\\n{p['text']}\\n\\n\")\n",
        "\n",
        "# Save JSONL page-by-page\n",
        "with open(base_dir/\"pages.jsonl\", \"w\", encoding=\"utf-8\") as f:\n",
        "    for p in pages:\n",
        "        f.write(json.dumps(p, ensure_ascii=False) + \"\\n\")\n",
        "\n",
        "print(\"Saved to:\", base_dir.resolve())\n"
      ],
      "metadata": {
        "colab": {
          "base_uri": "https://localhost:8080/"
        },
        "id": "jb3dk0eCQfxr",
        "outputId": "91365fa9-275f-4cd8-9021-a038a1bfd1e5"
      },
      "execution_count": 5,
      "outputs": [
        {
          "output_type": "stream",
          "name": "stdout",
          "text": [
            "Saved to: /content/car_manual_raw\n"
          ]
        }
      ]
    },
    {
      "cell_type": "code",
      "source": [
        "# Show the first ~1200 characters to confirm extraction looks okay\n",
        "all_text_preview = \"\\n\\n\".join([f\"[PAGE {p['page']}]\\n{p['text']}\" for p in pages])[:1200]\n",
        "print(all_text_preview)\n",
        "\n",
        "# Simple keyword search to see where topics live\n",
        "def find_pages(keyword: str, max_hits: int = 20):\n",
        "    hits = []\n",
        "    kw = keyword.lower()\n",
        "    for p in pages:\n",
        "        if kw in p[\"text\"].lower():\n",
        "            hits.append(p[\"page\"])\n",
        "            if len(hits) >= max_hits:\n",
        "                break\n",
        "    return hits\n",
        "\n",
        "for kw in [\"tire\", \"tire pressure\", \"coolant\", \"brake\", \"battery\"]:\n",
        "    print(f\"{kw!r} -> pages:\", find_pages(kw))\n"
      ],
      "metadata": {
        "colab": {
          "base_uri": "https://localhost:8080/"
        },
        "id": "nvydqb_NQnyU",
        "outputId": "b7f7becd-2b55-4590-aa03-b7ed1ba1225f"
      },
      "execution_count": 6,
      "outputs": [
        {
          "output_type": "stream",
          "name": "stdout",
          "text": [
            "[PAGE 1]\n",
            "TThhee\n",
            "Guide to \n",
            "Beginner\u0001s Auto \n",
            "Maintenance & Repair \n",
            "Jeff Crawford\n",
            "\n",
            "[PAGE 2]\n",
            "Presented by: \n",
            "About the Author: Jeff Crawford has over 20 years of experience as a mechanic and \n",
            "auto technician. He has seen all aspects of the auto repair industry from small shops to \n",
            "large dealerships. He is the co-owner of Crawford\u0001s Auto Repair in Mesa, Arizona \n",
            "85210. www.CrawfordsAutoService.com .\n",
            "\n",
            "[PAGE 3]\n",
            "The Crawford\u0001s Auto Repair Guide to Beginner\u0001s Auto Maintenance & Repair \n",
            "By Jeff Crawford, Crawford\u0001s Auto Repair \n",
            "Contributing Author: Rex Kimball, Mirex Marketing \n",
            "Text copyright © Jeff Crawford, Rex Kimball \n",
            "All rights reserved for printed and all digital formats. The following license is granted in \n",
            "PDF: \n",
            "This book is available in PDF for free, and it can be reproduced, shared and sold for \n",
            "profit royalty-free in PDF, but it a cannot be changed or adapted in content or format \n",
            "without the authors\u0001 consent. Go go http://www.crawfordsautoservice.com/crawfords- \n",
            "auto-repair-guide-free-ebook/ to download for free. \n",
            "Many of the images in this book are protected by copyright as cited. Some images are \n",
            "in the creative commons with \u0002free use\u0003 licenses. Some are in the public domain or \n",
            "'tire' -> pages: [5, 7, 8, 10, 11, 15, 18, 20, 30, 35, 37, 38, 39, 40, 41, 42, 45, 46, 47, 52]\n",
            "'tire pressure' -> pages: [18, 30, 35, 38, 39, 40]\n",
            "'coolant' -> pages: [8, 21, 23, 24, 34, 35, 51]\n",
            "'brake' -> pages: [5, 21, 24, 29, 30, 31, 32, 33, 34, 46, 69, 70, 71, 72, 78, 81]\n",
            "'battery' -> pages: [8, 18, 21, 26, 28, 36, 49, 57, 59, 60, 81]\n"
          ]
        }
      ]
    },
    {
      "cell_type": "code",
      "source": [],
      "metadata": {
        "id": "xemhK0QbQrqz"
      },
      "execution_count": null,
      "outputs": []
    }
  ]
}